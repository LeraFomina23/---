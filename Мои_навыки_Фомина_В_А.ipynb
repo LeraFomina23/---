{
  "nbformat": 4,
  "nbformat_minor": 0,
  "metadata": {
    "colab": {
      "name": "Мои навыки_Фомина.В.А",
      "provenance": []
    },
    "kernelspec": {
      "name": "python3",
      "display_name": "Python 3"
    },
    "language_info": {
      "name": "python"
    }
  },
  "cells": [
    {
      "cell_type": "code",
      "source": [
        "%%html\n",
        "<iframe width='853' height='480' src='https://embed.coggle.it/diagram/YC4IxOANbSrVKSyk/74ce042e6a44cc05abd079a4dcbd06c651970e7d1d4a2f4365151685855f05bb' frameborder='0' allowfullscreen></iframe>\n",
        "\n"
      ],
      "metadata": {
        "colab": {
          "base_uri": "https://localhost:8080/",
          "height": 501
        },
        "id": "nyOF0eFhPdEs",
        "outputId": "7fe3d49b-c0a5-4367-9287-e7747165d4dd"
      },
      "execution_count": null,
      "outputs": [
        {
          "output_type": "display_data",
          "data": {
            "text/html": [
              "<iframe width='853' height='480' src='https://embed.coggle.it/diagram/YC4IxOANbSrVKSyk/74ce042e6a44cc05abd079a4dcbd06c651970e7d1d4a2f4365151685855f05bb' frameborder='0' allowfullscreen></iframe>\n"
            ],
            "text/plain": [
              "<IPython.core.display.HTML object>"
            ]
          },
          "metadata": {}
        }
      ]
    },
    {
      "cell_type": "code",
      "source": [
        "%%html\n",
        "<a class=\"callout-link\" href=\"https://colab.research.google.com/drive/19UsIGTgeIai3vnk4sT2GE0Hh5KZE5mIa#scrollTo=eO8Sg4kARzag\" target=\"_blank\" rel=\"noopener noreferrer\">https://colab.research.google.com/drive/19UsIGTgeIai3vnk4sT2GE0Hh5KZE5mIa#scrollTo=eO8Sg4kARzag</a>"
      ],
      "metadata": {
        "colab": {
          "base_uri": "https://localhost:8080/",
          "height": 34
        },
        "id": "rq_43b4MRVUP",
        "outputId": "165e9277-bc9f-412f-9c5c-a0fd7881c54c"
      },
      "execution_count": null,
      "outputs": [
        {
          "output_type": "display_data",
          "data": {
            "text/html": [
              "<a class=\"callout-link\" href=\"https://colab.research.google.com/drive/19UsIGTgeIai3vnk4sT2GE0Hh5KZE5mIa#scrollTo=eO8Sg4kARzag\" target=\"_blank\" rel=\"noopener noreferrer\">https://colab.research.google.com/drive/19UsIGTgeIai3vnk4sT2GE0Hh5KZE5mIa#scrollTo=eO8Sg4kARzag</a>"
            ],
            "text/plain": [
              "<IPython.core.display.HTML object>"
            ]
          },
          "metadata": {}
        }
      ]
    },
    {
      "cell_type": "code",
      "source": [
        "%%html\n",
        "<a class=\"callout-link\" href=\"https://drive.google.com/file/d/1IwiLcAjOEAo90Xhf1t9RCuh4bqv9KFBJ/view\" target=\"_blank\" rel=\"noopener noreferrer\">https://drive.google.com/file/d/1IwiLcAjOEAo90Xhf1t9RCuh4bqv9KFBJ/view</a>"
      ],
      "metadata": {
        "colab": {
          "base_uri": "https://localhost:8080/",
          "height": 34
        },
        "id": "7tyLLtaMRkNN",
        "outputId": "61d6282d-40a3-4add-9563-bd952e5639f8"
      },
      "execution_count": null,
      "outputs": [
        {
          "output_type": "display_data",
          "data": {
            "text/html": [
              "<a class=\"callout-link\" href=\"https://drive.google.com/file/d/1IwiLcAjOEAo90Xhf1t9RCuh4bqv9KFBJ/view\" target=\"_blank\" rel=\"noopener noreferrer\">https://drive.google.com/file/d/1IwiLcAjOEAo90Xhf1t9RCuh4bqv9KFBJ/view</a>"
            ],
            "text/plain": [
              "<IPython.core.display.HTML object>"
            ]
          },
          "metadata": {}
        }
      ]
    },
    {
      "cell_type": "code",
      "source": [
        "%%html\n",
        "<a class=\"callout-link\" href=\"https://colab.research.google.com/drive/1Tn5oN3q5botvJnDvgcPvTt30wgMZRr-Y#scrollTo=tdEnpU0JMGfU&amp;uniqifier=5\" target=\"_blank\" rel=\"noopener noreferrer\">https://colab.research.google.com/drive/1Tn5oN3q5botvJnDvgcPvTt30wgMZRr-Y#scrollTo=tdEnpU0JMGfU&amp;uniqifier=5</a>"
      ],
      "metadata": {
        "colab": {
          "base_uri": "https://localhost:8080/",
          "height": 34
        },
        "id": "4TO71QhUR6x0",
        "outputId": "2e5d94cb-25ef-4723-8c91-1836ac9659fe"
      },
      "execution_count": null,
      "outputs": [
        {
          "output_type": "display_data",
          "data": {
            "text/html": [
              "<a class=\"callout-link\" href=\"https://colab.research.google.com/drive/1Tn5oN3q5botvJnDvgcPvTt30wgMZRr-Y#scrollTo=tdEnpU0JMGfU&amp;uniqifier=5\" target=\"_blank\" rel=\"noopener noreferrer\">https://colab.research.google.com/drive/1Tn5oN3q5botvJnDvgcPvTt30wgMZRr-Y#scrollTo=tdEnpU0JMGfU&amp;uniqifier=5</a>"
            ],
            "text/plain": [
              "<IPython.core.display.HTML object>"
            ]
          },
          "metadata": {}
        }
      ]
    },
    {
      "cell_type": "code",
      "source": [
        "%%html\n",
        "<a class=\"callout-link\" href=\"https://datastudio.google.com/reporting/c921bce6-9839-4dd6-9ad6-9f4b25e118fb/page/fRifC\" target=\"_blank\" rel=\"noopener noreferrer\">https://datastudio.google.com/reporting/c921bce6-9839-4dd6-9ad6-9f4b25e118fb/page/fRifC</a>"
      ],
      "metadata": {
        "colab": {
          "base_uri": "https://localhost:8080/",
          "height": 34
        },
        "id": "kgpTU2_MSDl9",
        "outputId": "086f603c-77a2-4d1a-9642-00f4327aaaa3"
      },
      "execution_count": null,
      "outputs": [
        {
          "output_type": "display_data",
          "data": {
            "text/html": [
              "<a class=\"callout-link\" href=\"https://datastudio.google.com/reporting/c921bce6-9839-4dd6-9ad6-9f4b25e118fb/page/fRifC\" target=\"_blank\" rel=\"noopener noreferrer\">https://datastudio.google.com/reporting/c921bce6-9839-4dd6-9ad6-9f4b25e118fb/page/fRifC</a>"
            ],
            "text/plain": [
              "<IPython.core.display.HTML object>"
            ]
          },
          "metadata": {}
        }
      ]
    },
    {
      "cell_type": "code",
      "source": [
        "%%html\n",
        "<a class=\"callout-link\" href=\"https://datastudio.google.com/reporting/a460dd75-0047-4734-ab33-8ba560a74672/page/UedeC\" target=\"_blank\" rel=\"noopener noreferrer\">https://datastudio.google.com/reporting/a460dd75-0047-4734-ab33-8ba560a74672/page/UedeC</a>"
      ],
      "metadata": {
        "colab": {
          "base_uri": "https://localhost:8080/",
          "height": 34
        },
        "id": "-swxui_ASSz8",
        "outputId": "f837c3c5-48ea-4e5d-c7b0-d961e1e927ce"
      },
      "execution_count": null,
      "outputs": [
        {
          "output_type": "display_data",
          "data": {
            "text/html": [
              "<a class=\"callout-link\" href=\"https://datastudio.google.com/reporting/a460dd75-0047-4734-ab33-8ba560a74672/page/UedeC\" target=\"_blank\" rel=\"noopener noreferrer\">https://datastudio.google.com/reporting/a460dd75-0047-4734-ab33-8ba560a74672/page/UedeC</a>"
            ],
            "text/plain": [
              "<IPython.core.display.HTML object>"
            ]
          },
          "metadata": {}
        }
      ]
    },
    {
      "cell_type": "code",
      "source": [
        "%%html\n",
        "<a class=\"callout-link\" href=\"https://example.com\" target=\"_blank\" rel=\"noopener noreferrer\">https://example.com</a>"
      ],
      "metadata": {
        "colab": {
          "base_uri": "https://localhost:8080/",
          "height": 34
        },
        "id": "cT1RrktzSf4V",
        "outputId": "5283a8b2-9663-4959-a163-7cddbbbb0a4f"
      },
      "execution_count": null,
      "outputs": [
        {
          "output_type": "display_data",
          "data": {
            "text/html": [
              "<a class=\"callout-link\" href=\"https://example.com\" target=\"_blank\" rel=\"noopener noreferrer\">https://example.com</a>"
            ],
            "text/plain": [
              "<IPython.core.display.HTML object>"
            ]
          },
          "metadata": {}
        }
      ]
    },
    {
      "cell_type": "code",
      "source": [
        "%%html\n",
        "<a class=\"callout-link\" href=\"https://docs.google.com/document/d/1HYEVsfyQyxZTft3bojXFAr2lsPeXEbTS8djEZ_BAsA4/edit\" target=\"_blank\" rel=\"noopener noreferrer\">https://docs.google.com/document/d/1HYEVsfyQyxZTft3bojXFAr2lsPeXEbTS8djEZ_BAsA4/edit</a>"
      ],
      "metadata": {
        "colab": {
          "base_uri": "https://localhost:8080/",
          "height": 34
        },
        "id": "wtKkd3lqSmJ7",
        "outputId": "d6b799be-fa2d-44bb-9190-c5fd9eb5672e"
      },
      "execution_count": null,
      "outputs": [
        {
          "output_type": "display_data",
          "data": {
            "text/html": [
              "<a class=\"callout-link\" href=\"https://docs.google.com/document/d/1HYEVsfyQyxZTft3bojXFAr2lsPeXEbTS8djEZ_BAsA4/edit\" target=\"_blank\" rel=\"noopener noreferrer\">https://docs.google.com/document/d/1HYEVsfyQyxZTft3bojXFAr2lsPeXEbTS8djEZ_BAsA4/edit</a>"
            ],
            "text/plain": [
              "<IPython.core.display.HTML object>"
            ]
          },
          "metadata": {}
        }
      ]
    },
    {
      "cell_type": "code",
      "source": [
        "%%html\n",
        "<a class=\"callout-link\" href=\"https://docs.google.com/document/d/1ZRvLcPBDF1SHhPhBjbHqLbw46ooyPcP6-x7NfmQYZ0g/edit\" target=\"_blank\" rel=\"noopener noreferrer\">https://docs.google.com/document/d/1ZRvLcPBDF1SHhPhBjbHqLbw46ooyPcP6-x7NfmQYZ0g/edit</a>"
      ],
      "metadata": {
        "colab": {
          "base_uri": "https://localhost:8080/",
          "height": 34
        },
        "id": "321W5fFAStIb",
        "outputId": "c2aa35de-e7ab-4c05-9a7d-fe5a3b98f9df"
      },
      "execution_count": null,
      "outputs": [
        {
          "output_type": "display_data",
          "data": {
            "text/html": [
              "<a class=\"callout-link\" href=\"https://docs.google.com/document/d/1ZRvLcPBDF1SHhPhBjbHqLbw46ooyPcP6-x7NfmQYZ0g/edit\" target=\"_blank\" rel=\"noopener noreferrer\">https://docs.google.com/document/d/1ZRvLcPBDF1SHhPhBjbHqLbw46ooyPcP6-x7NfmQYZ0g/edit</a>"
            ],
            "text/plain": [
              "<IPython.core.display.HTML object>"
            ]
          },
          "metadata": {}
        }
      ]
    },
    {
      "cell_type": "code",
      "source": [
        "%%html\n",
        "<a class=\"callout-link\" href=\"https://docs.google.com/document/d/1rq0O9_aCruJc2TCpRFBLLGHxKrcf6oNriPLuSHjRF2o/edit\" target=\"_blank\" rel=\"noopener noreferrer\">https://docs.google.com/document/d/1rq0O9_aCruJc2TCpRFBLLGHxKrcf6oNriPLuSHjRF2o/edit</a>"
      ],
      "metadata": {
        "colab": {
          "base_uri": "https://localhost:8080/",
          "height": 34
        },
        "id": "bPKPThYCTBUK",
        "outputId": "877c0c1c-5365-4b8b-8355-05762f75887f"
      },
      "execution_count": null,
      "outputs": [
        {
          "output_type": "display_data",
          "data": {
            "text/html": [
              "<a class=\"callout-link\" href=\"https://docs.google.com/document/d/1rq0O9_aCruJc2TCpRFBLLGHxKrcf6oNriPLuSHjRF2o/edit\" target=\"_blank\" rel=\"noopener noreferrer\">https://docs.google.com/document/d/1rq0O9_aCruJc2TCpRFBLLGHxKrcf6oNriPLuSHjRF2o/edit</a>"
            ],
            "text/plain": [
              "<IPython.core.display.HTML object>"
            ]
          },
          "metadata": {}
        }
      ]
    },
    {
      "cell_type": "code",
      "source": [
        "%%html\n",
        "<a class=\"callout-link\" href=\"https://docs.google.com/document/d/1wxBSHOLuwVSKoA7SrAazV4gF4BqF2n4ygIsedaVhqb4/edit\" target=\"_blank\" rel=\"noopener noreferrer\">https://docs.google.com/document/d/1wxBSHOLuwVSKoA7SrAazV4gF4BqF2n4ygIsedaVhqb4/edit</a>"
      ],
      "metadata": {
        "colab": {
          "base_uri": "https://localhost:8080/",
          "height": 34
        },
        "id": "nFvn4fDPTEwK",
        "outputId": "2bb01b06-b82a-4baf-bbb5-362e263932df"
      },
      "execution_count": null,
      "outputs": [
        {
          "output_type": "display_data",
          "data": {
            "text/html": [
              "<a class=\"callout-link\" href=\"https://docs.google.com/document/d/1wxBSHOLuwVSKoA7SrAazV4gF4BqF2n4ygIsedaVhqb4/edit\" target=\"_blank\" rel=\"noopener noreferrer\">https://docs.google.com/document/d/1wxBSHOLuwVSKoA7SrAazV4gF4BqF2n4ygIsedaVhqb4/edit</a>"
            ],
            "text/plain": [
              "<IPython.core.display.HTML object>"
            ]
          },
          "metadata": {}
        }
      ]
    },
    {
      "cell_type": "code",
      "source": [
        "%%html\n",
        "<a class=\"callout-link\" href=\"https://datastudio.google.com/reporting/c921bce6-9839-4dd6-9ad6-9f4b25e118fb/page/fRifC\" target=\"_blank\" rel=\"noopener noreferrer\">https://datastudio.google.com/reporting/c921bce6-9839-4dd6-9ad6-9f4b25e118fb/page/fRifC</a>"
      ],
      "metadata": {
        "colab": {
          "base_uri": "https://localhost:8080/",
          "height": 34
        },
        "id": "JdF7WM3dTNHq",
        "outputId": "0739b8af-8bdb-401e-fbec-57ec64dd3d42"
      },
      "execution_count": null,
      "outputs": [
        {
          "output_type": "display_data",
          "data": {
            "text/html": [
              "<a class=\"callout-link\" href=\"https://datastudio.google.com/reporting/c921bce6-9839-4dd6-9ad6-9f4b25e118fb/page/fRifC\" target=\"_blank\" rel=\"noopener noreferrer\">https://datastudio.google.com/reporting/c921bce6-9839-4dd6-9ad6-9f4b25e118fb/page/fRifC</a>"
            ],
            "text/plain": [
              "<IPython.core.display.HTML object>"
            ]
          },
          "metadata": {}
        }
      ]
    },
    {
      "cell_type": "code",
      "source": [
        "%%html\n",
        "<a class=\"callout-link\" href=\"https://docs.google.com/document/d/1rq0O9_aCruJc2TCpRFBLLGHxKrcf6oNriPLuSHjRF2o/edit\" target=\"_blank\" rel=\"noopener noreferrer\">https://docs.google.com/document/d/1rq0O9_aCruJc2TCpRFBLLGHxKrcf6oNriPLuSHjRF2o/edit</a>"
      ],
      "metadata": {
        "colab": {
          "base_uri": "https://localhost:8080/",
          "height": 34
        },
        "id": "oYL3-TwUT0RL",
        "outputId": "d5b30395-62c6-4b00-9c04-6d22023d4d06"
      },
      "execution_count": null,
      "outputs": [
        {
          "output_type": "display_data",
          "data": {
            "text/html": [
              "<a class=\"callout-link\" href=\"https://docs.google.com/document/d/1rq0O9_aCruJc2TCpRFBLLGHxKrcf6oNriPLuSHjRF2o/edit\" target=\"_blank\" rel=\"noopener noreferrer\">https://docs.google.com/document/d/1rq0O9_aCruJc2TCpRFBLLGHxKrcf6oNriPLuSHjRF2o/edit</a>"
            ],
            "text/plain": [
              "<IPython.core.display.HTML object>"
            ]
          },
          "metadata": {}
        }
      ]
    },
    {
      "cell_type": "code",
      "source": [
        "%%html\n",
        "<a class=\"callout-link\" href=\"https://docs.google.com/document/d/1KZnAdiT8CZixbpVZLynC0G48vsfahrFeB4wfAkPx4ts/edit\" target=\"_blank\" rel=\"noopener noreferrer\">https://docs.google.com/document/d/1KZnAdiT8CZixbpVZLynC0G48vsfahrFeB4wfAkPx4ts/edit</a>"
      ],
      "metadata": {
        "colab": {
          "base_uri": "https://localhost:8080/",
          "height": 34
        },
        "id": "Ox2zr9tqUDjg",
        "outputId": "f120ee4f-c2dd-4125-834c-e2e374ece4b4"
      },
      "execution_count": null,
      "outputs": [
        {
          "output_type": "display_data",
          "data": {
            "text/html": [
              "<a class=\"callout-link\" href=\"https://docs.google.com/document/d/1KZnAdiT8CZixbpVZLynC0G48vsfahrFeB4wfAkPx4ts/edit\" target=\"_blank\" rel=\"noopener noreferrer\">https://docs.google.com/document/d/1KZnAdiT8CZixbpVZLynC0G48vsfahrFeB4wfAkPx4ts/edit</a>"
            ],
            "text/plain": [
              "<IPython.core.display.HTML object>"
            ]
          },
          "metadata": {}
        }
      ]
    },
    {
      "cell_type": "code",
      "source": [
        "%%html\n",
        "<a class=\"callout-link\" href=\"https://docs.google.com/document/d/1jjLKmwMV5MWnO6ijAtPU3X_-9nad3tLd/edit\" target=\"_blank\" rel=\"noopener noreferrer\">https://docs.google.com/document/d/1jjLKmwMV5MWnO6ijAtPU3X_-9nad3tLd/edit</a>"
      ],
      "metadata": {
        "colab": {
          "base_uri": "https://localhost:8080/",
          "height": 34
        },
        "id": "b68Ima6gUK0Q",
        "outputId": "1079f9ab-6c3a-4568-e995-92bbf48ef0f7"
      },
      "execution_count": null,
      "outputs": [
        {
          "output_type": "display_data",
          "data": {
            "text/html": [
              "<a class=\"callout-link\" href=\"https://docs.google.com/document/d/1jjLKmwMV5MWnO6ijAtPU3X_-9nad3tLd/edit\" target=\"_blank\" rel=\"noopener noreferrer\">https://docs.google.com/document/d/1jjLKmwMV5MWnO6ijAtPU3X_-9nad3tLd/edit</a>"
            ],
            "text/plain": [
              "<IPython.core.display.HTML object>"
            ]
          },
          "metadata": {}
        }
      ]
    }
  ]
}